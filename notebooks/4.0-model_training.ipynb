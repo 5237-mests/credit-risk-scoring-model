{
 "cells": [
  {
   "cell_type": "code",
   "execution_count": 2,
   "id": "fece8402",
   "metadata": {},
   "outputs": [],
   "source": [
    "import os\n",
    "import sys\n",
    "\n",
    "sys.path.append(os.path.abspath(\"../src\"))\n",
    "\n",
    "import pandas as pd\n",
    "import numpy as np\n",
    "import mlflow\n",
    "import mlflow.sklearn\n",
    "\n",
    "from sklearn.model_selection import train_test_split, GridSearchCV\n",
    "from sklearn.ensemble import RandomForestClassifier\n",
    "from sklearn.linear_model import LogisticRegression\n",
    "from sklearn.pipeline import Pipeline\n",
    "from sklearn.metrics import (\n",
    "    accuracy_score, precision_score, recall_score,\n",
    "    f1_score, roc_auc_score, confusion_matrix, classification_report\n",
    ")\n",
    "\n",
    "import matplotlib.pyplot as plt\n",
    "import seaborn as sns\n",
    "\n",
    "from data_processing import (\n",
    "    extract_date_features,\n",
    "    build_aggregate_features,\n",
    "    clean_data,\n",
    "    build_preprocessor\n",
    ")\n"
   ]
  },
  {
   "cell_type": "markdown",
   "id": "54c8fcc4",
   "metadata": {},
   "source": [
    "## 🏗️ Step 1: Merge Proxy Target"
   ]
  },
  {
   "cell_type": "code",
   "execution_count": 3,
   "id": "970d46f0",
   "metadata": {},
   "outputs": [
    {
     "name": "stdout",
     "output_type": "stream",
     "text": [
      "(95662, 17)\n"
     ]
    },
    {
     "data": {
      "text/html": [
       "<div>\n",
       "<style scoped>\n",
       "    .dataframe tbody tr th:only-of-type {\n",
       "        vertical-align: middle;\n",
       "    }\n",
       "\n",
       "    .dataframe tbody tr th {\n",
       "        vertical-align: top;\n",
       "    }\n",
       "\n",
       "    .dataframe thead th {\n",
       "        text-align: right;\n",
       "    }\n",
       "</style>\n",
       "<table border=\"1\" class=\"dataframe\">\n",
       "  <thead>\n",
       "    <tr style=\"text-align: right;\">\n",
       "      <th></th>\n",
       "      <th>TransactionId</th>\n",
       "      <th>BatchId</th>\n",
       "      <th>AccountId</th>\n",
       "      <th>SubscriptionId</th>\n",
       "      <th>CustomerId</th>\n",
       "      <th>CurrencyCode</th>\n",
       "      <th>CountryCode</th>\n",
       "      <th>ProviderId</th>\n",
       "      <th>ProductId</th>\n",
       "      <th>ProductCategory</th>\n",
       "      <th>ChannelId</th>\n",
       "      <th>Amount</th>\n",
       "      <th>Value</th>\n",
       "      <th>TransactionStartTime</th>\n",
       "      <th>PricingStrategy</th>\n",
       "      <th>FraudResult</th>\n",
       "      <th>Cluster</th>\n",
       "    </tr>\n",
       "  </thead>\n",
       "  <tbody>\n",
       "    <tr>\n",
       "      <th>0</th>\n",
       "      <td>TransactionId_76871</td>\n",
       "      <td>BatchId_36123</td>\n",
       "      <td>AccountId_3957</td>\n",
       "      <td>SubscriptionId_887</td>\n",
       "      <td>CustomerId_4406</td>\n",
       "      <td>UGX</td>\n",
       "      <td>256</td>\n",
       "      <td>ProviderId_6</td>\n",
       "      <td>ProductId_10</td>\n",
       "      <td>airtime</td>\n",
       "      <td>ChannelId_3</td>\n",
       "      <td>1000.0</td>\n",
       "      <td>1000</td>\n",
       "      <td>2018-11-15 02:18:49+00:00</td>\n",
       "      <td>2</td>\n",
       "      <td>0</td>\n",
       "      <td>1</td>\n",
       "    </tr>\n",
       "    <tr>\n",
       "      <th>1</th>\n",
       "      <td>TransactionId_73770</td>\n",
       "      <td>BatchId_15642</td>\n",
       "      <td>AccountId_4841</td>\n",
       "      <td>SubscriptionId_3829</td>\n",
       "      <td>CustomerId_4406</td>\n",
       "      <td>UGX</td>\n",
       "      <td>256</td>\n",
       "      <td>ProviderId_4</td>\n",
       "      <td>ProductId_6</td>\n",
       "      <td>financial_services</td>\n",
       "      <td>ChannelId_2</td>\n",
       "      <td>-20.0</td>\n",
       "      <td>20</td>\n",
       "      <td>2018-11-15 02:19:08+00:00</td>\n",
       "      <td>2</td>\n",
       "      <td>0</td>\n",
       "      <td>1</td>\n",
       "    </tr>\n",
       "    <tr>\n",
       "      <th>2</th>\n",
       "      <td>TransactionId_26203</td>\n",
       "      <td>BatchId_53941</td>\n",
       "      <td>AccountId_4229</td>\n",
       "      <td>SubscriptionId_222</td>\n",
       "      <td>CustomerId_4683</td>\n",
       "      <td>UGX</td>\n",
       "      <td>256</td>\n",
       "      <td>ProviderId_6</td>\n",
       "      <td>ProductId_1</td>\n",
       "      <td>airtime</td>\n",
       "      <td>ChannelId_3</td>\n",
       "      <td>500.0</td>\n",
       "      <td>500</td>\n",
       "      <td>2018-11-15 02:44:21+00:00</td>\n",
       "      <td>2</td>\n",
       "      <td>0</td>\n",
       "      <td>0</td>\n",
       "    </tr>\n",
       "    <tr>\n",
       "      <th>3</th>\n",
       "      <td>TransactionId_380</td>\n",
       "      <td>BatchId_102363</td>\n",
       "      <td>AccountId_648</td>\n",
       "      <td>SubscriptionId_2185</td>\n",
       "      <td>CustomerId_988</td>\n",
       "      <td>UGX</td>\n",
       "      <td>256</td>\n",
       "      <td>ProviderId_1</td>\n",
       "      <td>ProductId_21</td>\n",
       "      <td>utility_bill</td>\n",
       "      <td>ChannelId_3</td>\n",
       "      <td>20000.0</td>\n",
       "      <td>21800</td>\n",
       "      <td>2018-11-15 03:32:55+00:00</td>\n",
       "      <td>2</td>\n",
       "      <td>0</td>\n",
       "      <td>1</td>\n",
       "    </tr>\n",
       "    <tr>\n",
       "      <th>4</th>\n",
       "      <td>TransactionId_28195</td>\n",
       "      <td>BatchId_38780</td>\n",
       "      <td>AccountId_4841</td>\n",
       "      <td>SubscriptionId_3829</td>\n",
       "      <td>CustomerId_988</td>\n",
       "      <td>UGX</td>\n",
       "      <td>256</td>\n",
       "      <td>ProviderId_4</td>\n",
       "      <td>ProductId_6</td>\n",
       "      <td>financial_services</td>\n",
       "      <td>ChannelId_2</td>\n",
       "      <td>-644.0</td>\n",
       "      <td>644</td>\n",
       "      <td>2018-11-15 03:34:21+00:00</td>\n",
       "      <td>2</td>\n",
       "      <td>0</td>\n",
       "      <td>1</td>\n",
       "    </tr>\n",
       "  </tbody>\n",
       "</table>\n",
       "</div>"
      ],
      "text/plain": [
       "         TransactionId         BatchId       AccountId       SubscriptionId  \\\n",
       "0  TransactionId_76871   BatchId_36123  AccountId_3957   SubscriptionId_887   \n",
       "1  TransactionId_73770   BatchId_15642  AccountId_4841  SubscriptionId_3829   \n",
       "2  TransactionId_26203   BatchId_53941  AccountId_4229   SubscriptionId_222   \n",
       "3    TransactionId_380  BatchId_102363   AccountId_648  SubscriptionId_2185   \n",
       "4  TransactionId_28195   BatchId_38780  AccountId_4841  SubscriptionId_3829   \n",
       "\n",
       "        CustomerId CurrencyCode  CountryCode    ProviderId     ProductId  \\\n",
       "0  CustomerId_4406          UGX          256  ProviderId_6  ProductId_10   \n",
       "1  CustomerId_4406          UGX          256  ProviderId_4   ProductId_6   \n",
       "2  CustomerId_4683          UGX          256  ProviderId_6   ProductId_1   \n",
       "3   CustomerId_988          UGX          256  ProviderId_1  ProductId_21   \n",
       "4   CustomerId_988          UGX          256  ProviderId_4   ProductId_6   \n",
       "\n",
       "      ProductCategory    ChannelId   Amount  Value      TransactionStartTime  \\\n",
       "0             airtime  ChannelId_3   1000.0   1000 2018-11-15 02:18:49+00:00   \n",
       "1  financial_services  ChannelId_2    -20.0     20 2018-11-15 02:19:08+00:00   \n",
       "2             airtime  ChannelId_3    500.0    500 2018-11-15 02:44:21+00:00   \n",
       "3        utility_bill  ChannelId_3  20000.0  21800 2018-11-15 03:32:55+00:00   \n",
       "4  financial_services  ChannelId_2   -644.0    644 2018-11-15 03:34:21+00:00   \n",
       "\n",
       "   PricingStrategy  FraudResult  Cluster  \n",
       "0                2            0        1  \n",
       "1                2            0        1  \n",
       "2                2            0        0  \n",
       "3                2            0        1  \n",
       "4                2            0        1  "
      ]
     },
     "execution_count": 3,
     "metadata": {},
     "output_type": "execute_result"
    }
   ],
   "source": [
    "# Load processed cluster labels\n",
    "proxy_target = pd.read_csv('../data/processed/proxy_target.csv')\n",
    "\n",
    "# Load transaction data\n",
    "data = pd.read_csv('../data/raw/data.csv')\n",
    "\n",
    "# Merge\n",
    "data = pd.merge(data, proxy_target, on='CustomerId', how='left')\n",
    "\n",
    "# Convert datetime\n",
    "data['TransactionStartTime'] = pd.to_datetime(data['TransactionStartTime'])\n",
    "\n",
    "print(data.shape)\n",
    "data.head()\n"
   ]
  },
  {
   "cell_type": "markdown",
   "id": "a42b1b8a",
   "metadata": {},
   "source": [
    "## 🔧 Step 2: Feature Engineering (Reuse from Task 3)"
   ]
  },
  {
   "cell_type": "code",
   "execution_count": null,
   "id": "39e5290b",
   "metadata": {},
   "outputs": [],
   "source": [
    "# Apply feature engineering\n",
    "data = extract_date_features(data)\n",
    "data = build_aggregate_features(data)\n",
    "data_clean = clean_data(data)\n"
   ]
  },
  {
   "cell_type": "markdown",
   "id": "183261d1",
   "metadata": {},
   "source": [
    "## 🎯 Step 3: Define Features and Target"
   ]
  },
  {
   "cell_type": "code",
   "execution_count": 5,
   "id": "9f29948a",
   "metadata": {},
   "outputs": [
    {
     "name": "stdout",
     "output_type": "stream",
     "text": [
      "Features: (95662, 17), Target: (95662,)\n"
     ]
    }
   ],
   "source": [
    "X = data_clean.drop(columns=['FraudResult', 'Cluster'])\n",
    "y = data_clean['Cluster']  # Proxy target from Task 4\n",
    "\n",
    "print(f\"Features: {X.shape}, Target: {y.shape}\")\n"
   ]
  },
  {
   "cell_type": "markdown",
   "id": "a54b5737",
   "metadata": {},
   "source": [
    "## ✂️ Step 4: Train-Test Split"
   ]
  },
  {
   "cell_type": "code",
   "execution_count": 6,
   "id": "b0129a09",
   "metadata": {},
   "outputs": [
    {
     "name": "stdout",
     "output_type": "stream",
     "text": [
      "Train: (76529, 17), Test: (19133, 17)\n"
     ]
    }
   ],
   "source": [
    "# from sklearn.model_selection import train_test_split\n",
    "\n",
    "X_train, X_test, y_train, y_test = train_test_split(\n",
    "    X, y, test_size=0.2, random_state=42, stratify=y\n",
    ")\n",
    "\n",
    "print(f\"Train: {X_train.shape}, Test: {X_test.shape}\")\n"
   ]
  },
  {
   "cell_type": "markdown",
   "id": "f1ee2ccd",
   "metadata": {},
   "source": [
    "## 🔥 Step 5: Build Full Pipeline with Model"
   ]
  },
  {
   "cell_type": "code",
   "execution_count": 7,
   "id": "127379c8",
   "metadata": {},
   "outputs": [],
   "source": [
    "from sklearn.preprocessing import StandardScaler\n",
    "from sklearn.compose import ColumnTransformer\n",
    "from sklearn.impute import SimpleImputer\n",
    "from sklearn.preprocessing import OneHotEncoder\n",
    "\n",
    "# Build preprocessor\n",
    "preprocessor = build_preprocessor()\n",
    "\n",
    "# Logistic Regression pipeline\n",
    "logistic_pipeline = Pipeline(steps=[\n",
    "    ('preprocessor', preprocessor),\n",
    "    ('classifier', LogisticRegression(max_iter=500, random_state=42))\n",
    "])\n",
    "\n",
    "# Random Forest pipeline\n",
    "rf_pipeline = Pipeline(steps=[\n",
    "    ('preprocessor', preprocessor),\n",
    "    ('classifier', RandomForestClassifier(random_state=42))\n",
    "])\n"
   ]
  },
  {
   "cell_type": "markdown",
   "id": "b8e34496",
   "metadata": {},
   "source": [
    "## 🔥 Step 6. Setup MLflow Experiment"
   ]
  },
  {
   "cell_type": "code",
   "execution_count": 8,
   "id": "6d261887",
   "metadata": {},
   "outputs": [
    {
     "name": "stderr",
     "output_type": "stream",
     "text": [
      "2025/06/30 17:40:01 INFO mlflow.tracking.fluent: Experiment with name 'customer_segmentation_experiment' does not exist. Creating a new experiment.\n"
     ]
    },
    {
     "data": {
      "text/plain": [
       "<Experiment: artifact_location='file:///c:/ME/KAIM/week5/credit-risk-scoring-model/notebooks/mlruns/575654473440926346', creation_time=1751294401510, experiment_id='575654473440926346', last_update_time=1751294401510, lifecycle_stage='active', name='customer_segmentation_experiment', tags={}>"
      ]
     },
     "execution_count": 8,
     "metadata": {},
     "output_type": "execute_result"
    }
   ],
   "source": [
    "mlflow.set_experiment(\"customer_segmentation_experiment\")"
   ]
  },
  {
   "cell_type": "markdown",
   "id": "4c60f32a",
   "metadata": {},
   "source": [
    "## 🔍 Step 7. Hyperparameter Tuning and Training with MLflow"
   ]
  },
  {
   "cell_type": "code",
   "execution_count": 9,
   "id": "b65394c0",
   "metadata": {},
   "outputs": [
    {
     "name": "stdout",
     "output_type": "stream",
     "text": [
      "Training LogisticRegression\n"
     ]
    },
    {
     "name": "stderr",
     "output_type": "stream",
     "text": [
      "2025/06/30 17:40:47 WARNING mlflow.models.model: `artifact_path` is deprecated. Please use `name` instead.\n"
     ]
    },
    {
     "name": "stdout",
     "output_type": "stream",
     "text": [
      "Best Params: {'classifier__C': 10.0}\n",
      "Accuracy: 0.9262008048920712, F1: 0.9210145826349659\n"
     ]
    },
    {
     "name": "stderr",
     "output_type": "stream",
     "text": [
      "2025/06/30 17:43:37 WARNING mlflow.models.model: Model logged without a signature and input example. Please set `input_example` parameter when logging the model to auto infer the model signature.\n"
     ]
    },
    {
     "name": "stdout",
     "output_type": "stream",
     "text": [
      "Finished logging LogisticRegression\n",
      "Training RandomForest\n"
     ]
    },
    {
     "name": "stderr",
     "output_type": "stream",
     "text": [
      "2025/06/30 17:50:38 WARNING mlflow.models.model: `artifact_path` is deprecated. Please use `name` instead.\n"
     ]
    },
    {
     "name": "stdout",
     "output_type": "stream",
     "text": [
      "Best Params: {'classifier__max_depth': None, 'classifier__n_estimators': 200}\n",
      "Accuracy: 0.9903831077196467, F1: 0.9903755505201322\n"
     ]
    },
    {
     "name": "stderr",
     "output_type": "stream",
     "text": [
      "2025/06/30 17:50:50 WARNING mlflow.models.model: Model logged without a signature and input example. Please set `input_example` parameter when logging the model to auto infer the model signature.\n"
     ]
    },
    {
     "name": "stdout",
     "output_type": "stream",
     "text": [
      "Finished logging RandomForest\n"
     ]
    }
   ],
   "source": [
    "models = {\n",
    "    \"LogisticRegression\": logistic_pipeline,\n",
    "    \"RandomForest\": rf_pipeline\n",
    "}\n",
    "\n",
    "params = {\n",
    "    \"LogisticRegression\": {\n",
    "        'classifier__C': [0.01, 0.1, 1.0, 10.0]\n",
    "    },\n",
    "    \"RandomForest\": {\n",
    "        'classifier__n_estimators': [50, 100, 200],\n",
    "        'classifier__max_depth': [None, 10, 20]\n",
    "    }\n",
    "}\n",
    "\n",
    "best_models = {}\n",
    "\n",
    "for name, model in models.items():\n",
    "    with mlflow.start_run(run_name=name):\n",
    "        print(f\"Training {name}\")\n",
    "\n",
    "        grid = GridSearchCV(model, params[name], cv=3, scoring='f1_weighted')\n",
    "        grid.fit(X_train, y_train)\n",
    "\n",
    "        best_model = grid.best_estimator_\n",
    "        best_models[name] = best_model\n",
    "\n",
    "        y_pred = best_model.predict(X_test)\n",
    "\n",
    "        acc = accuracy_score(y_test, y_pred)\n",
    "        prec = precision_score(y_test, y_pred, average='weighted')\n",
    "        rec = recall_score(y_test, y_pred, average='weighted')\n",
    "        f1 = f1_score(y_test, y_pred, average='weighted')\n",
    "        roc = roc_auc_score(y_test, pd.get_dummies(y_test), multi_class='ovo')\n",
    "\n",
    "        print(f\"Best Params: {grid.best_params_}\")\n",
    "        print(f\"Accuracy: {acc}, F1: {f1}\")\n",
    "\n",
    "        # Log params and metrics\n",
    "        mlflow.log_params(grid.best_params_)\n",
    "        mlflow.log_metrics({\n",
    "            \"accuracy\": acc,\n",
    "            \"precision\": prec,\n",
    "            \"recall\": rec,\n",
    "            \"f1\": f1,\n",
    "            \"roc_auc\": roc\n",
    "        })\n",
    "\n",
    "        # Log model\n",
    "        mlflow.sklearn.log_model(best_model, name)\n",
    "\n",
    "        print(f\"Finished logging {name}\")\n"
   ]
  },
  {
   "cell_type": "markdown",
   "id": "2ffeef80",
   "metadata": {},
   "source": [
    "## 📊 Step 8: Evaluate the Model"
   ]
  },
  {
   "cell_type": "code",
   "execution_count": 10,
   "id": "c176d419",
   "metadata": {},
   "outputs": [
    {
     "name": "stdout",
     "output_type": "stream",
     "text": [
      "              precision    recall  f1-score   support\n",
      "\n",
      "           0       0.96      0.96      0.96      2202\n",
      "           1       0.99      0.99      0.99     16113\n",
      "           2       1.00      1.00      1.00       818\n",
      "\n",
      "    accuracy                           0.99     19133\n",
      "   macro avg       0.98      0.98      0.98     19133\n",
      "weighted avg       0.99      0.99      0.99     19133\n",
      "\n"
     ]
    },
    {
     "data": {
      "image/png": "[encoded data removed]",
      "text/plain": [
       "<Figure size 600x400 with 2 Axes>"
      ]
     },
     "metadata": {},
     "output_type": "display_data"
    }
   ],
   "source": [
    "final_model = best_models['RandomForest']\n",
    "y_pred = final_model.predict(X_test)\n",
    "\n",
    "print(classification_report(y_test, y_pred))\n",
    "\n",
    "plt.figure(figsize=(6, 4))\n",
    "sns.heatmap(confusion_matrix(y_test, y_pred), annot=True, fmt='d', cmap='Blues')\n",
    "plt.title(\"Confusion Matrix - Random Forest\")\n",
    "plt.xlabel(\"Predicted\")\n",
    "plt.ylabel(\"True\")\n",
    "plt.show()"
   ]
  },
  {
   "cell_type": "markdown",
   "id": "d3ca11b3",
   "metadata": {},
   "source": [
    "## 💾 Step 9: Save the best Model"
   ]
  },
  {
   "cell_type": "code",
   "execution_count": 11,
   "id": "b752e6b9",
   "metadata": {},
   "outputs": [
    {
     "name": "stdout",
     "output_type": "stream",
     "text": [
      "Model saved to '../models/rfm_cluster_model.pkl'\n"
     ]
    }
   ],
   "source": [
    "import joblib\n",
    "\n",
    "joblib.dump(final_model, '../models/rfm_cluster_model.pkl')\n",
    "\n",
    "print(\"Model saved to '../models/rfm_cluster_model.pkl'\")\n"
   ]
  }
 ],
 "metadata": {
  "kernelspec": {
   "display_name": "week5",
   "language": "python",
   "name": "python3"
  },
  "language_info": {
   "codemirror_mode": {
    "name": "ipython",
    "version": 3
   },
   "file_extension": ".py",
   "mimetype": "text/x-python",
   "name": "python",
   "nbconvert_exporter": "python",
   "pygments_lexer": "ipython3",
   "version": "3.13.2"
  }
 },
 "nbformat": 4,
 "nbformat_minor": 5
}
